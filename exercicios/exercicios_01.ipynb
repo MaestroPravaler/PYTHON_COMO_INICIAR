{
 "metadata": {
  "language_info": {
   "codemirror_mode": {
    "name": "ipython",
    "version": 3
   },
   "file_extension": ".py",
   "mimetype": "text/x-python",
   "name": "python",
   "nbconvert_exporter": "python",
   "pygments_lexer": "ipython3",
   "version": "3.8.6-final"
  },
  "orig_nbformat": 2,
  "kernelspec": {
   "name": "python38664bitf7b8fb6b11f94e579c82b4227d404cb3",
   "display_name": "Python 3.8.6 64-bit",
   "language": "python"
  }
 },
 "nbformat": 4,
 "nbformat_minor": 2,
 "cells": [
  {
   "source": [
    "## Operações Elementares\n",
    "01. O usuário irá digitar dois números inteiros. A aplicação deve ler estes números e realizar as seguintes operações: adição, subtração, multiplicação e divisão."
   ],
   "cell_type": "markdown",
   "metadata": {}
  },
  {
   "cell_type": "code",
   "execution_count": 3,
   "metadata": {},
   "outputs": [
    {
     "output_type": "stream",
     "name": "stdout",
     "text": [
      "A soma dos dois números é: 13\nA subtração dos dois números é: -3\nA multiplicação dos dois números é: 40\nA divisão dos dois números é: 0.625\n"
     ]
    }
   ],
   "source": [
    "numero1 = int(input('Digite o primeiro número: '))\n",
    "numero2 = int(input('Digite o segundo número: '))\n",
    "\n",
    "adicao = numero1 + numero2\n",
    "subtracao = numero1 - numero2\n",
    "multiplicacao = numero1 * numero2\n",
    "divisao = numero1 / numero2\n",
    "\n",
    "print('A soma dos dois números é:', adicao)\n",
    "print('A subtração dos dois números é:', subtracao)\n",
    "print('A multiplicação dos dois números é:', multiplicacao)\n",
    "print('A divisão dos dois números é:', divisao)"
   ]
  },
  {
   "source": [
    "## Situação Problema (Calculos Matemáticos Simples)\n",
    "2. Efetuar o cálculo da quantidade de litros de combustível gasto em uma viagem, utilizando um automóvel que faz 12 Km por litro. Para obter o cálculo, o usuário deve fornecer o tempo gasto na viagem e a velocidade média durante ela. Desta forma, será possível obter a distância percorrida com a fórmula DISTANCIA = TEMPO * VELOCIDADE. Tendo o valor da distância, basta calcular a quantidade de litros de combustível utilizada na viagem, com a fórmula: LITROS_USADOS = DISTANCIA / 12. O programa deve apresentar os valores da velocidade média, tempo gasto na viagem, a distância percorrida e a quantidade de litros utilizada na viagem\n",
    "\n"
   ],
   "cell_type": "markdown",
   "metadata": {}
  },
  {
   "cell_type": "code",
   "execution_count": 4,
   "metadata": {},
   "outputs": [
    {
     "output_type": "stream",
     "name": "stdout",
     "text": [
      "A Velocidade Média do carro é :  95.0  km/h\nO tempo gasto na viagem foi:  5.3  horas\nA distância percorrida pelo veículo foi:  503.5  km\nO combustível gasto para esta viagem foi de: 41.958333333333336  litros\n"
     ]
    }
   ],
   "source": [
    "tempoViajado = float(input('Digite o tempo gasto na viagem em horas: '))\n",
    "velocidadeCarro = float(input('Digite a velocidade média do carro durante o ercurso: '))\n",
    "\n",
    "distancia = tempoViajado * velocidadeCarro\n",
    "combustivel = distancia / 12\n",
    "\n",
    "print('A Velocidade Média do carro é : ', velocidadeCarro, 'km/h')\n",
    "print('O tempo gasto na viagem foi: ', tempoViajado, 'horas')\n",
    "print('A distância percorrida pelo veículo foi: ', distancia, 'km')\n",
    "print('O combustível gasto para esta viagem foi de:', combustivel, ' litros')"
   ]
  },
  {
   "cell_type": "code",
   "execution_count": null,
   "metadata": {},
   "outputs": [],
   "source": []
  }
 ]
}