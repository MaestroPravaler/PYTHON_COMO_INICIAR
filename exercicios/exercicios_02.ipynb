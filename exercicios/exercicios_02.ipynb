{
 "metadata": {
  "language_info": {
   "codemirror_mode": {
    "name": "ipython",
    "version": 3
   },
   "file_extension": ".py",
   "mimetype": "text/x-python",
   "name": "python",
   "nbconvert_exporter": "python",
   "pygments_lexer": "ipython3",
   "version": "3.8.6-final"
  },
  "orig_nbformat": 2,
  "kernelspec": {
   "name": "python38664bitf7b8fb6b11f94e579c82b4227d404cb3",
   "display_name": "Python 3.8.6 64-bit",
   "language": "python"
  }
 },
 "nbformat": 4,
 "nbformat_minor": 2,
 "cells": [
  {
   "source": [
    "## Situação problema 01\n",
    "Leia a idade do usuário e classifique-o em:\n",
    "* Criança – 0 a 12 anos\n",
    "* Adolescente – 13 a 17 anos\n",
    "* Adulto – acima de 18 anos\n",
    "* Se o usuário digitar um número negativo, mostrar a mensagem que a idade é inválida"
   ],
   "cell_type": "markdown",
   "metadata": {}
  },
  {
   "cell_type": "code",
   "execution_count": 1,
   "metadata": {},
   "outputs": [
    {
     "output_type": "stream",
     "name": "stdout",
     "text": [
      "Criança\n"
     ]
    }
   ],
   "source": [
    "idade = int(input('Digite a idade: '))\n",
    "\n",
    "if idade >= 0 and idade <= 12:\n",
    "  print('Criança')\n",
    "elif idade > 12 and idade <= 18:\n",
    "  print('Adolescente')\n",
    "elif idade > 18:\n",
    "  print('Adulto')\n",
    "else:\n",
    "  print('Idade inválida')"
   ]
  },
  {
   "source": [
    "## Situação problema 02\n",
    "Calcular a média de um aluno que cursou a disciplina de Programação I, a partir da leitura das notas M1, M2 e M3; passando por um cálculo da média aritmética. Após a média calculada, devemos anunciar se o aluno foi aprovado, reprovado ou pegou exame\n",
    "* Se a média estiver entre 0.0 e 4.0, o aluno está reprovado\n",
    "* Se a média estiver entre 4.1 e 6.0, o aluno pegou exame\n",
    "* Se a média for maior do que 6.0, o aluno está aprovado\n",
    "* Se o aluno pegou exame, deve ser lida a nota do exame. Se a nota do exame for maior do que 6.0, está aprovado, senão; está reprovado"
   ],
   "cell_type": "markdown",
   "metadata": {}
  },
  {
   "cell_type": "code",
   "execution_count": 4,
   "metadata": {},
   "outputs": [
    {
     "output_type": "stream",
     "name": "stdout",
     "text": [
      "Aluno aprovado\n"
     ]
    }
   ],
   "source": [
    "m1 = float(input('Digite a nota M1: '))\n",
    "m2 = float(input('Digite a nota M2: '))\n",
    "m3 = float(input('Digite a nota M3: '))\n",
    "\n",
    "media = (m1 + m2 + m3) / 3\n",
    "\n",
    "if media >= 0.0 and media <= 4.0:\n",
    "  print('Aluno reprovado')\n",
    "elif media >= 4.1 and media <= 6.0:\n",
    "  exame = float(input('Digite a nota do exame'))\n",
    "  if exame >= 6.0:\n",
    "    print('Aprovado no exame')\n",
    "  else:\n",
    "    print('Reprovado no exame')\n",
    "else:\n",
    "  print('Aluno aprovado')"
   ]
  },
  {
   "cell_type": "code",
   "execution_count": null,
   "metadata": {},
   "outputs": [],
   "source": []
  }
 ]
}