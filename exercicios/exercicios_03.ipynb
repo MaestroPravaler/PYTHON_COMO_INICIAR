{
 "metadata": {
  "language_info": {
   "codemirror_mode": {
    "name": "ipython",
    "version": 3
   },
   "file_extension": ".py",
   "mimetype": "text/x-python",
   "name": "python",
   "nbconvert_exporter": "python",
   "pygments_lexer": "ipython3",
   "version": "3.8.6-final"
  },
  "orig_nbformat": 2,
  "kernelspec": {
   "name": "python38664bitf7b8fb6b11f94e579c82b4227d404cb3",
   "display_name": "Python 3.8.6 64-bit",
   "language": "python"
  }
 },
 "nbformat": 4,
 "nbformat_minor": 2,
 "cells": [
  {
   "source": [
    "## Situação problema 01\n",
    "Utilizando for e while, ler 5 notas e informar a média"
   ],
   "cell_type": "markdown",
   "metadata": {}
  },
  {
   "source": [
    "#### Utilizando o for"
   ],
   "cell_type": "markdown",
   "metadata": {}
  },
  {
   "cell_type": "code",
   "execution_count": 19,
   "metadata": {},
   "outputs": [
    {
     "output_type": "stream",
     "name": "stdout",
     "text": [
      "1.0\n"
     ]
    }
   ],
   "source": [
    "# Variáveis utilizadas \n",
    "nota = 0\n",
    "soma = 0\n",
    "valor = 0\n",
    "\n",
    "for _ in range(1, 6):\n",
    "    nota = float(input('Digite a nota: '))\n",
    "    soma += nota\n",
    "\n",
    "media = soma / 5\n",
    "print(media)"
   ]
  },
  {
   "source": [
    "#### Utilizando o While"
   ],
   "cell_type": "markdown",
   "metadata": {}
  },
  {
   "cell_type": "code",
   "execution_count": 20,
   "metadata": {},
   "outputs": [
    {
     "output_type": "stream",
     "name": "stdout",
     "text": [
      "1.0\n"
     ]
    }
   ],
   "source": [
    "# Variáveis utilizadas \n",
    "nota = 0\n",
    "soma = 0\n",
    "controladordoloop = 1\n",
    "\n",
    "while controladordoloop <=5:\n",
    "    nota = float(input('Digite a nota: '))\n",
    "    soma += nota\n",
    "    controladordoloop += 1\n",
    "\n",
    "media = soma / 5\n",
    "print(media)  "
   ]
  },
  {
   "source": [
    "## Situação problema 02\n",
    "Utilizando o for e o while, imprimir a tabuada do número 3 (3 x 1 = 1 – 3 x 10 = 30)"
   ],
   "cell_type": "markdown",
   "metadata": {}
  },
  {
   "source": [
    "#### Utilizando o for"
   ],
   "cell_type": "markdown",
   "metadata": {}
  },
  {
   "cell_type": "code",
   "execution_count": 17,
   "metadata": {},
   "outputs": [
    {
     "output_type": "stream",
     "name": "stdout",
     "text": [
      "3 x 1 = 3\n3 x 2 = 6\n3 x 3 = 9\n3 x 4 = 12\n3 x 5 = 15\n3 x 6 = 18\n3 x 7 = 21\n3 x 8 = 24\n3 x 9 = 27\n3 x 10 = 30\n"
     ]
    }
   ],
   "source": [
    "for i in range(1, 11, +1):\n",
    "    print('3 x {} = {}'.format(i, 3 * i)) # {} recebe uma variável explissitada no .format"
   ]
  },
  {
   "source": [
    "#### Utilizando o while"
   ],
   "cell_type": "markdown",
   "metadata": {}
  },
  {
   "cell_type": "code",
   "execution_count": 18,
   "metadata": {},
   "outputs": [
    {
     "output_type": "stream",
     "name": "stdout",
     "text": [
      "3 X 1 = 3\n3 x 1 = 3\n3 X 2 = 6\n3 x 2 = 6\n3 X 3 = 9\n3 x 3 = 9\n3 X 4 = 12\n3 x 4 = 12\n3 X 5 = 15\n3 x 5 = 15\n3 X 6 = 18\n3 x 6 = 18\n3 X 7 = 21\n3 x 7 = 21\n3 X 8 = 24\n3 x 8 = 24\n3 X 9 = 27\n3 x 9 = 27\n3 X 10 = 30\n3 x 10 = 30\n"
     ]
    }
   ],
   "source": [
    "controladordoloop = 1\n",
    "\n",
    "while controladordoloop <=10:\n",
    "    print('3 x {} = {}'.format(controladordoloop, 3 * controladordoloop))\n",
    "    controladordoloop += 1\n"
   ]
  },
  {
   "cell_type": "code",
   "execution_count": null,
   "metadata": {},
   "outputs": [],
   "source": []
  }
 ]
}