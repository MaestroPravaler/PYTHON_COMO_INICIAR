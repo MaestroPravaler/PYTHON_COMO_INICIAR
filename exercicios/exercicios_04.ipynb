{
 "metadata": {
  "language_info": {
   "codemirror_mode": {
    "name": "ipython",
    "version": 3
   },
   "file_extension": ".py",
   "mimetype": "text/x-python",
   "name": "python",
   "nbconvert_exporter": "python",
   "pygments_lexer": "ipython3",
   "version": "3.8.6-final"
  },
  "orig_nbformat": 2,
  "kernelspec": {
   "name": "python38664bitf7b8fb6b11f94e579c82b4227d404cb3",
   "display_name": "Python 3.8.6 64-bit",
   "language": "python"
  }
 },
 "nbformat": 4,
 "nbformat_minor": 2,
 "cells": [
  {
   "source": [
    "## Situação Problema 01\n",
    "**Lista:** Crie uma estrutura de repetição para fazer a leitura de 5 números inteiros e os armazene dentro de uma lista. Após a leitura, crie outra estrutura de repetição para somar todos os valores digitados"
   ],
   "cell_type": "markdown",
   "metadata": {}
  },
  {
   "cell_type": "code",
   "execution_count": 3,
   "metadata": {},
   "outputs": [
    {
     "output_type": "stream",
     "name": "stdout",
     "text": [
      "[2, 2, 2, 2, 2]\n"
     ]
    }
   ],
   "source": [
    "# FASE 01 - Criar a lista e inserir 5 dados digitados pelo usuário\n",
    "lista = []\n",
    "for _ in range(1,6):\n",
    "    valordigitado = int(input('Digite um valor: '))\n",
    "    lista.append(valordigitado)\n",
    "print(lista)"
   ]
  },
  {
   "cell_type": "code",
   "execution_count": 4,
   "metadata": {},
   "outputs": [
    {
     "output_type": "stream",
     "name": "stdout",
     "text": [
      "10\n"
     ]
    }
   ],
   "source": [
    "# FASE 02 - Ler os dados da lista e somar\n",
    "soma = 0\n",
    "for i in range(len(lista)):\n",
    "    soma += lista[i]\n",
    "print(soma)\n"
   ]
  },
  {
   "source": [
    "## Situação Problema 02\n",
    "**Dicionário:** Crie um dicionário para armazenar o nome e a nota de 3 alunos, fazendo a leitura dos valores por meio de uma estrutura de repetição. Depois, crie uma nova estrutura de repetição para somar todas as notas e retornar a média"
   ],
   "cell_type": "markdown",
   "metadata": {}
  },
  {
   "cell_type": "code",
   "execution_count": 5,
   "metadata": {},
   "outputs": [
    {
     "output_type": "stream",
     "name": "stdout",
     "text": [
      "{'José': 7.0, 'joão': 9.0, 'Rose': 8.0}\n"
     ]
    }
   ],
   "source": [
    "# FASE 01 - Criar um dicionário para armazenar nome e nota de 3 alunos.\n",
    "dicionario = {}\n",
    "for _ in range(1,4):\n",
    "    nome = input('Digite o Nome do Aluno: ')\n",
    "    nota = float(input('Digite a Nota:'))\n",
    "    dicionario[nome] = nota\n",
    "print(dicionario)"
   ]
  },
  {
   "cell_type": "code",
   "execution_count": 10,
   "metadata": {},
   "outputs": [
    {
     "output_type": "stream",
     "name": "stdout",
     "text": [
      "A somatória das notas é:  24.0\nA média das notas é:  8.0\n"
     ]
    }
   ],
   "source": [
    "#FASE 02 - Somar as notas e tirar as médias.\n",
    "# No dicionario eu tenho Chave e valor\n",
    "dicionario.keys() # recupero as chaves\n",
    "dicionario.values() # recupero os valores\n",
    "\n",
    "somadasnotas = 0\n",
    "for valoresdasnotas in dicionario.values():\n",
    "    somadasnotas += valoresdasnotas\n",
    "    \n",
    "print('A somatória das notas é: ',somadasnotas)\n",
    "\n",
    "mediadasnotas = somadasnotas / len(dicionario)\n",
    "print('A média das notas é: ', mediadasnotas)"
   ]
  },
  {
   "source": [
    "## Situação Problema 03\n",
    "**Matriz:** Dada a matriz abaixo, construa uma estrutura de repetição para percorrer e somar todos os elementos da matriz"
   ],
   "cell_type": "markdown",
   "metadata": {}
  },
  {
   "cell_type": "code",
   "execution_count": 18,
   "metadata": {},
   "outputs": [
    {
     "output_type": "stream",
     "name": "stdout",
     "text": [
      "17\n"
     ]
    }
   ],
   "source": [
    "import numpy as np\n",
    "\n",
    "matriz = np.array([[3, 4, 1],\n",
    "                   [3, 1, 5]])\n",
    "# matriz.shape  Determina o número de linhas e colunas da minha matriz gerando uma tupla\n",
    "# (numerodelinhas, numerodecolunas) \n",
    "# (posição 0, posição 1)\n",
    "\n",
    "soma = 0\n",
    "for selecionalinha in range(matriz.shape[0]):\n",
    "    for selecionacoluna in range(matriz.shape[1]):\n",
    "        soma += matriz[selecionalinha][selecionacoluna]\n",
    "print(soma)\n"
   ]
  },
  {
   "cell_type": "code",
   "execution_count": null,
   "metadata": {},
   "outputs": [],
   "source": []
  }
 ]
}