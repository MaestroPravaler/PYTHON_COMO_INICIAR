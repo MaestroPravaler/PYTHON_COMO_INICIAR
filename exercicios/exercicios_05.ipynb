{
 "metadata": {
  "language_info": {
   "codemirror_mode": {
    "name": "ipython",
    "version": 3
   },
   "file_extension": ".py",
   "mimetype": "text/x-python",
   "name": "python",
   "nbconvert_exporter": "python",
   "pygments_lexer": "ipython3",
   "version": "3.8.6-final"
  },
  "orig_nbformat": 2,
  "kernelspec": {
   "name": "python38664bitf7b8fb6b11f94e579c82b4227d404cb3",
   "display_name": "Python 3.8.6 64-bit",
   "language": "python"
  }
 },
 "nbformat": 4,
 "nbformat_minor": 2,
 "cells": [
  {
   "source": [
    "## Situação Problema 01\n",
    "Ler uma temperatura em graus Celsius e apresentá-la convertida em graus Fahrenheit. A fórmula de conversão é F = (9 * C + 160) / 5, na qual F é a temperatura em Fahrenheit e C é a temperatura em graus Celsius\n",
    "* Função para ler e retorna o valor da temperatura (não recebe parâmetro)\n",
    "* Função para fazer o cálculo (recebe como parâmetro a temperatura em graus Celsius)\n",
    "* Função para mostrar o resultado, recebendo como parâmetro o valor e fazendo a impressão"
   ],
   "cell_type": "markdown",
   "metadata": {}
  },
  {
   "cell_type": "code",
   "execution_count": 2,
   "metadata": {},
   "outputs": [],
   "source": [
    "def ler_temperatura():\n",
    "  temperatura = float(input('Digite a temperatura em graus Celsius: '))\n",
    "  return temperatura"
   ]
  },
  {
   "cell_type": "code",
   "execution_count": 3,
   "metadata": {},
   "outputs": [],
   "source": [
    "def converter(temperatura_celsius):\n",
    "  temperatura_f = (9 * temperatura_celsius + 160) / 5\n",
    "  return temperatura_f"
   ]
  },
  {
   "cell_type": "code",
   "execution_count": 4,
   "metadata": {},
   "outputs": [],
   "source": [
    "def mostrar(temperatura_f):\n",
    "  print(temperatura_f)"
   ]
  },
  {
   "cell_type": "code",
   "execution_count": 5,
   "metadata": {},
   "outputs": [
    {
     "output_type": "stream",
     "name": "stdout",
     "text": [
      "50.0\n"
     ]
    }
   ],
   "source": [
    "temperatura_c = ler_temperatura()\n",
    "temperatura_f = converter(temperatura_c)\n",
    "mostrar(temperatura_f)"
   ]
  },
  {
   "source": [
    "## Situação Problema 02\n",
    "Efetuar o cálculo da quantidade de litros de combustível gasto em uma viagem, utilizando um automóvel que faz 12 Km por litro. Para obter o cálculo, o usuário deve fornecer o tempo gasto na viagem e a velocidade média durante ela. Desta forma, será possível obter a distância percorrida com a fórmula DISTANCIA = TEMPO * VELOCIDADE. Tendo o valor da distância, basta calcular a quantidade de litros de combustível utilizada na viagem, com a fórmula: LITROS_USADOS = DISTANCIA / 12. O programa deve apresentar os valores da velocidade média, tempo gasto na viagem, a distância percorrida e a quantidade de litros utilizada na viagem\n",
    "* Função para ler os valores (não recebe parâmetro e retorna os dois valores)\n",
    "* Função para calcular a distância (recebe como parâmetro o tempo e a velocidade e retorna a distância)\n",
    "* Função para calcular a quantidade de litros (recebe como parâmetro a distância e retorna os litros)\n",
    "* Função para apresentar o resultado (recebe como parâmetro os valores e somente imprime o resultado)"
   ],
   "cell_type": "markdown",
   "metadata": {}
  },
  {
   "cell_type": "code",
   "execution_count": 14,
   "metadata": {},
   "outputs": [],
   "source": [
    "def leitura():\n",
    "  tempo = float(input('Digite o tempo da viagem: '))\n",
    "  velocidade = float(input('Digite a velocidade média: '))\n",
    "  return tempo, velocidade"
   ]
  },
  {
   "cell_type": "code",
   "execution_count": 15,
   "metadata": {},
   "outputs": [],
   "source": [
    "def calcula_distancia(tempo, velocidade):\n",
    "  return tempo * velocidade"
   ]
  },
  {
   "cell_type": "code",
   "execution_count": 16,
   "metadata": {},
   "outputs": [],
   "source": [
    "def calcula_litros(distancia):\n",
    "  return distancia / 12"
   ]
  },
  {
   "cell_type": "code",
   "execution_count": 17,
   "metadata": {},
   "outputs": [],
   "source": [
    "def imprime(velocidade, tempo, distancia, litros):\n",
    "  print('Velocidade:', velocidade)\n",
    "  print('Tempo:', tempo)\n",
    "  print('Distância:', distancia)\n",
    "  print('Litros:', litros)"
   ]
  }
 ]
}