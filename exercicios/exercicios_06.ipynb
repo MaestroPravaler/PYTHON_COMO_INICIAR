{
 "metadata": {
  "language_info": {
   "codemirror_mode": {
    "name": "ipython",
    "version": 3
   },
   "file_extension": ".py",
   "mimetype": "text/x-python",
   "name": "python",
   "nbconvert_exporter": "python",
   "pygments_lexer": "ipython3",
   "version": "3.8.6-final"
  },
  "orig_nbformat": 2,
  "kernelspec": {
   "name": "python38664bitf7b8fb6b11f94e579c82b4227d404cb3",
   "display_name": "Python 3.8.6 64-bit",
   "language": "python"
  }
 },
 "nbformat": 4,
 "nbformat_minor": 2,
 "cells": [
  {
   "source": [
    "## Situação Problema 01\n",
    "Em um arquivo externo (exercicio_06.py) crie o seguinte conteúdo:\n",
    "* Uma Função para ler um string (recebe como parâmetro uma mensagem e retorna o que o usuário digitou)\n",
    "* Função para ler um número float (recebe como parâmetro uma mensagem e retorna o que o usuário digitou)\n",
    "\n",
    "Importe o arquivo para este notebook. O objetivo desta prática é o exdercício de criação de um MÓDULO PERSONALIZADO no python."
   ],
   "cell_type": "markdown",
   "metadata": {}
  },
  {
   "cell_type": "code",
   "execution_count": 4,
   "metadata": {},
   "outputs": [],
   "source": [
    "import exercicios_06 as ex6"
   ]
  },
  {
   "cell_type": "code",
   "execution_count": 5,
   "metadata": {},
   "outputs": [
    {
     "output_type": "stream",
     "name": "stdout",
     "text": [
      "isdfuisdufsiufsi\n"
     ]
    }
   ],
   "source": [
    "imprime_mensagem = ex6.digite_mensagem('Digite alguma coisa: ')\n",
    "print(imprime_mensagem)"
   ]
  },
  {
   "cell_type": "code",
   "execution_count": 9,
   "metadata": {},
   "outputs": [
    {
     "output_type": "stream",
     "name": "stdout",
     "text": [
      "2.0\n"
     ]
    }
   ],
   "source": [
    "imprime_numero = ex6.digite_numero('Digite algum número: ')\n",
    "print(imprime_numero)"
   ]
  },
  {
   "cell_type": "code",
   "execution_count": null,
   "metadata": {},
   "outputs": [],
   "source": []
  }
 ]
}