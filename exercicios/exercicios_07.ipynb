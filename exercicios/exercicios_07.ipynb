{
 "metadata": {
  "language_info": {
   "codemirror_mode": {
    "name": "ipython",
    "version": 3
   },
   "file_extension": ".py",
   "mimetype": "text/x-python",
   "name": "python",
   "nbconvert_exporter": "python",
   "pygments_lexer": "ipython3",
   "version": "3.8.6-final"
  },
  "orig_nbformat": 2,
  "kernelspec": {
   "name": "python38664bitf7b8fb6b11f94e579c82b4227d404cb3",
   "display_name": "Python 3.8.6 64-bit",
   "language": "python"
  }
 },
 "nbformat": 4,
 "nbformat_minor": 2,
 "cells": [
  {
   "source": [
    "## Situação Problema 01\n",
    "Crie uma lista vazia e faça a leitura de dois valores do tipo float, colocando cada um dos valores nas primeiras posições da lista (o valor1 ficará na posição 0 da lista e o valor2 ficará na posição 1 da lista). Faça a divisão dos dois valores e trate as seguintes exceções:\n",
    "* ValueError: se o usuário digitar um caracter\n",
    "* ZeroDivisionError: se o usuário digitar zero e ocorrer erro na divisão\n",
    "* IndexError: caso a divisão seja feita levando em consideração posições que não existem na lista\n",
    "* KeyboardInterrupt: caso o usuário interrompa a execução\n",
    "\n",
    "Mostre uma mensagem personalizada na ocorrência de cada um desses erros"
   ],
   "cell_type": "markdown",
   "metadata": {}
  },
  {
   "cell_type": "code",
   "execution_count": 1,
   "metadata": {},
   "outputs": [
    {
     "output_type": "stream",
     "name": "stdout",
     "text": [
      "A divisão é 1.2857142857142858\n"
     ]
    }
   ],
   "source": [
    "lista = []\n",
    "try:\n",
    "  lista.append(float(input('Digite o primeiro valor: ')))\n",
    "  lista.append(float(input('Digite o segundo valor: ')))\n",
    "  divisao = lista[0] / lista[1]\n",
    "\n",
    "## Digitar um número e uma string para cair nesta excessão  \n",
    "except ValueError:\n",
    "  print('Erro! Valor inválido')\n",
    "\n",
    "## Digitar 0 no segundo valor\n",
    "except ZeroDivisionError:\n",
    "  print('Erro! Divisão por zero')\n",
    "\n",
    "## Altere o Código: divisao = lista[0] / lista[2]\n",
    "except IndexError:\n",
    "  print('Erro! Índice inválido')\n",
    "\n",
    "## Antes de digitar os números clique no STOP do notebook\n",
    "except KeyboardInterrupt:\n",
    "  print('Usuário interrompeu a execução')\n",
    "\n",
    "## Quando a divisão é possível\n",
    "else:\n",
    "  print(f'A divisão é {divisao}')"
   ]
  },
  {
   "cell_type": "code",
   "execution_count": null,
   "metadata": {},
   "outputs": [],
   "source": []
  }
 ]
}