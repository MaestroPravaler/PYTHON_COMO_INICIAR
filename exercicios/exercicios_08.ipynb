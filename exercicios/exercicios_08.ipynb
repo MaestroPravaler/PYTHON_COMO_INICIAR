{
 "metadata": {
  "language_info": {
   "codemirror_mode": {
    "name": "ipython",
    "version": 3
   },
   "file_extension": ".py",
   "mimetype": "text/x-python",
   "name": "python",
   "nbconvert_exporter": "python",
   "pygments_lexer": "ipython3",
   "version": "3.8.6-final"
  },
  "orig_nbformat": 2,
  "kernelspec": {
   "name": "python38664bitf7b8fb6b11f94e579c82b4227d404cb3",
   "display_name": "Python 3.8.6 64-bit",
   "language": "python"
  }
 },
 "nbformat": 4,
 "nbformat_minor": 2,
 "cells": [
  {
   "source": [
    "## Situação Problema 01\n",
    "Considerando o dicionário com o nome dos alunos e suas respectivas notas abaixo, crie uma estrutura de repetição para percorrer cada elemento do dicionário para gravar cada aluno em um novo arquivo de texto\n",
    "* Cada aluno deve ocupar uma linha do novo arquivo de texto\n",
    "* O formato deve ser: nome,nota (Pedro,8.0)\n",
    "* Após a criação do arquivo de texto, faça a leitura do arquivo e mostre todos os alunos"
   ],
   "cell_type": "markdown",
   "metadata": {}
  },
  {
   "cell_type": "code",
   "execution_count": 2,
   "metadata": {},
   "outputs": [],
   "source": [
    "alunos = {'Ananias': 6.0, 'Juliano': 7.0, 'Pedro Augusto': 7.5}"
   ]
  },
  {
   "cell_type": "code",
   "execution_count": 3,
   "metadata": {},
   "outputs": [],
   "source": [
    "# Gravando os alunos do dicionário no arquivo texto\n",
    "with open('exercicio_08.txt', 'w') as arquivo:\n",
    "  for aluno, nota in alunos.items():\n",
    "    arquivo.write(f'{aluno},{nota}\\n')"
   ]
  },
  {
   "cell_type": "code",
   "execution_count": 4,
   "metadata": {},
   "outputs": [
    {
     "output_type": "stream",
     "name": "stdout",
     "text": [
      "Ananias,6.0\n\nJuliano,7.0\n\nPedro Augusto,7.5\n\n"
     ]
    }
   ],
   "source": [
    "# Lendo o arquivo texto\n",
    "with open('exercicio_08.txt', 'r') as arquivo:\n",
    "  for linha in arquivo:\n",
    "    print(linha)"
   ]
  },
  {
   "cell_type": "code",
   "execution_count": null,
   "metadata": {},
   "outputs": [],
   "source": []
  }
 ]
}