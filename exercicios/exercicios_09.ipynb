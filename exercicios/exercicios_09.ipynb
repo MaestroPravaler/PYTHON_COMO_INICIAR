{
 "metadata": {
  "language_info": {
   "codemirror_mode": {
    "name": "ipython",
    "version": 3
   },
   "file_extension": ".py",
   "mimetype": "text/x-python",
   "name": "python",
   "nbconvert_exporter": "python",
   "pygments_lexer": "ipython3",
   "version": "3.8.6-final"
  },
  "orig_nbformat": 2,
  "kernelspec": {
   "name": "python38664bitf7b8fb6b11f94e579c82b4227d404cb3",
   "display_name": "Python 3.8.6 64-bit",
   "language": "python"
  }
 },
 "nbformat": 4,
 "nbformat_minor": 2,
 "cells": [
  {
   "source": [
    "## Situação Problema 01\n",
    "Crie expressões regulares para extrair as seguintes informações do texto abaixo (use a função findall):\n",
    "* Números\n",
    "* CEPs\n",
    "* URLs\n"
   ],
   "cell_type": "markdown",
   "metadata": {}
  },
  {
   "cell_type": "code",
   "execution_count": 1,
   "metadata": {},
   "outputs": [],
   "source": [
    "texto = \"Moro na cidade de Araxá. Me mudei a 4 anos e estamos em 2020. O CEP da minha residencia é 09789-030 e 14511-198. Visite o meu canal no youtube https://www.youtube.com/channel/UCOaYIlm1AaY4ErmcxeCRzOA meu linkedin é https://www.linkedin.com/in/robson-dias-dev/\""
   ]
  },
  {
   "cell_type": "code",
   "execution_count": 2,
   "metadata": {},
   "outputs": [
    {
     "output_type": "execute_result",
     "data": {
      "text/plain": [
       "['4',\n",
       " '2',\n",
       " '0',\n",
       " '2',\n",
       " '0',\n",
       " '0',\n",
       " '9',\n",
       " '7',\n",
       " '8',\n",
       " '9',\n",
       " '0',\n",
       " '3',\n",
       " '0',\n",
       " '1',\n",
       " '4',\n",
       " '5',\n",
       " '1',\n",
       " '1',\n",
       " '1',\n",
       " '9',\n",
       " '8',\n",
       " '1',\n",
       " '4']"
      ]
     },
     "metadata": {},
     "execution_count": 2
    }
   ],
   "source": [
    "import re\n",
    "\n",
    "# Extrair todos os números do texto\n",
    "re.findall('\\d', texto)"
   ]
  },
  {
   "cell_type": "code",
   "execution_count": 3,
   "metadata": {},
   "outputs": [
    {
     "output_type": "execute_result",
     "data": {
      "text/plain": [
       "['09789-030', '14511-198']"
      ]
     },
     "metadata": {},
     "execution_count": 3
    }
   ],
   "source": [
    "# Extrair todos os CEP's\n",
    "re.findall('\\d{5}-\\d{3}', texto)"
   ]
  },
  {
   "cell_type": "code",
   "execution_count": 4,
   "metadata": {},
   "outputs": [
    {
     "output_type": "execute_result",
     "data": {
      "text/plain": [
       "['https://www.youtube.com/channel/UCOaYIlm1AaY4ErmcxeCRzOA',\n",
       " 'https://www.linkedin.com/in/robson']"
      ]
     },
     "metadata": {},
     "execution_count": 4
    }
   ],
   "source": [
    "#Extrair todos os sites\n",
    "re.findall('https?://[A-Za-z0-9./]+', texto)"
   ]
  },
  {
   "cell_type": "code",
   "execution_count": null,
   "metadata": {},
   "outputs": [],
   "source": []
  }
 ]
}