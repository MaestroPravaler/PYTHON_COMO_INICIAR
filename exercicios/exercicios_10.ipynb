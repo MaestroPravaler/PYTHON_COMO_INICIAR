{
 "metadata": {
  "language_info": {
   "codemirror_mode": {
    "name": "ipython",
    "version": 3
   },
   "file_extension": ".py",
   "mimetype": "text/x-python",
   "name": "python",
   "nbconvert_exporter": "python",
   "pygments_lexer": "ipython3",
   "version": "3.8.6-final"
  },
  "orig_nbformat": 2,
  "kernelspec": {
   "name": "python38664bitf7b8fb6b11f94e579c82b4227d404cb3",
   "display_name": "Python 3.8.6 64-bit",
   "language": "python"
  }
 },
 "nbformat": 4,
 "nbformat_minor": 2,
 "cells": [
  {
   "source": [
    "## Situação Problema 01\n",
    "Crie uma classe chamada aluno com os seguintes atributos:\n",
    "* Nome\n",
    "* Nota 1\n",
    "* Nota 2\n",
    "* Crie um construtor para a classe (__init__)\n",
    "\n",
    "Crie as seguintes funções (métodos):\n",
    "* Calcula média, retornando a média aritmética entre as notas\n",
    "* Mostra dados, que somente imprime o valor de todos os atributos\n",
    "* Resultado, que verifica se o aluno está aprovado ou reprovado (se a média for maior ou igual a 6.0, o aluno está aprovado)\n",
    "\n",
    "Crie dois objetos (aluno1 e aluno2) e teste as funções"
   ],
   "cell_type": "markdown",
   "metadata": {}
  },
  {
   "cell_type": "code",
   "execution_count": 2,
   "metadata": {},
   "outputs": [],
   "source": [
    "class Aluno:\n",
    "    ## Criação do construtor\n",
    "    def __init__(self, nome, nota1, nota2):\n",
    "        self.nome = nome\n",
    "        self.nota1 = nota1\n",
    "        self.nota2 = nota2\n",
    "        self.media = 0.0\n",
    "   \n",
    "    def calcula_media(self):\n",
    "        self.media = (self.nota1 + self.nota2) / 2\n",
    "        return self.media\n",
    "\n",
    "    def mostra_dados(self):\n",
    "        print('Nome: ', self.nome)\n",
    "        print('Nota 1:', self.nota1)\n",
    "        print('Nota 2:', self.nota2)\n",
    "        print('Média:', self.media)\n",
    "    \n",
    "    def resultado(self):\n",
    "        if self.media >= 6.0:\n",
    "            print('Aprovado')\n",
    "        else:\n",
    "            print('Reprovado')"
   ]
  },
  {
   "cell_type": "code",
   "execution_count": 3,
   "metadata": {},
   "outputs": [
    {
     "output_type": "stream",
     "name": "stdout",
     "text": [
      "8.0\n"
     ]
    }
   ],
   "source": [
    "aluno1 = Aluno('Pedro', 7.0, 9.0)\n",
    "media = aluno1.calcula_media()\n",
    "print(media)"
   ]
  },
  {
   "cell_type": "code",
   "execution_count": 4,
   "metadata": {},
   "outputs": [
    {
     "output_type": "stream",
     "name": "stdout",
     "text": [
      "Nome:  Pedro\nNota 1: 7.0\nNota 2: 9.0\nMédia: 8.0\n"
     ]
    }
   ],
   "source": [
    "aluno1.mostra_dados()"
   ]
  },
  {
   "cell_type": "code",
   "execution_count": 5,
   "metadata": {},
   "outputs": [
    {
     "output_type": "stream",
     "name": "stdout",
     "text": [
      "Aprovado\n"
     ]
    }
   ],
   "source": [
    "aluno1.resultado()"
   ]
  },
  {
   "cell_type": "code",
   "execution_count": 6,
   "metadata": {},
   "outputs": [
    {
     "output_type": "stream",
     "name": "stdout",
     "text": [
      "Nome:  João\nNota 1: 7.0\nNota 2: 2.0\nMédia: 4.5\nReprovado\n"
     ]
    }
   ],
   "source": [
    "aluno2 = Aluno('João', 7.0, 2.0)\n",
    "media = aluno2.calcula_media()\n",
    "aluno2.mostra_dados()\n",
    "aluno2.resultado()"
   ]
  },
  {
   "cell_type": "code",
   "execution_count": null,
   "metadata": {},
   "outputs": [],
   "source": []
  }
 ]
}